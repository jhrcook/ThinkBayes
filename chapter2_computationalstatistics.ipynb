{
 "cells": [
  {
   "cell_type": "markdown",
   "metadata": {},
   "source": [
    "# Chapter 2. Computational Statistics"
   ]
  },
  {
   "cell_type": "markdown",
   "metadata": {},
   "source": [
    "May 2, 2019"
   ]
  },
  {
   "cell_type": "markdown",
   "metadata": {},
   "source": [
    "## Recreating the `Pmf` class\n",
    "\n",
    "In the chapter, Downey uses a library he built called `Pmf`. I have decided to recreate it here."
   ]
  },
  {
   "cell_type": "code",
   "execution_count": 1,
   "metadata": {},
   "outputs": [],
   "source": [
    "class Pmf:\n",
    "    '''\n",
    "    A class to define and maitain a probability mass function\n",
    "    '''\n",
    "    def __init__(self):\n",
    "        self.options = dict()\n",
    "    \n",
    "    # sets the `obj` to the probability `prob`\n",
    "    def Set(self, obj, prob):\n",
    "        self.options[obj] = prob\n",
    "    \n",
    "    # increments the object `obj` by `n`\n",
    "    # useful for building the PMF from an iterator\n",
    "    def Incr(self, obj, n):\n",
    "        if obj in self.options.keys():\n",
    "            self.options[obj] += 1\n",
    "        else:\n",
    "            self.options[obj] = 1\n",
    "    \n",
    "    # nromalize the PMF back to a sum of 1\n",
    "    def Normalize(self):\n",
    "        options_total = sum(self.options.values())\n",
    "        if options_total > 0:\n",
    "            for k in self.options.keys():\n",
    "                self.options[k] = self.options[k] / options_total\n",
    "        else:\n",
    "            print(\"No values set\")\n",
    "    \n",
    "    # return the probability of `obj`\n",
    "    def Prob(self, obj):\n",
    "        if obj in self.options.keys():\n",
    "            print(self.options[obj])\n",
    "        else:\n",
    "            print(obj + \"has not been set, yet\")\n",
    "    \n",
    "    # multiply the current prob of object `obj` by `new_p`\n",
    "    def Mult(self, obj, new_p):\n",
    "        if obj in self.options.keys():\n",
    "            self.options[obj] *= new_p\n",
    "    \n",
    "    # print statement\n",
    "    def __str__(self):\n",
    "        return(\"A Pmf object with \" + str(len(self.options.keys())) + \" values\")"
   ]
  },
  {
   "cell_type": "code",
   "execution_count": 2,
   "metadata": {},
   "outputs": [],
   "source": [
    "pmf = Pmf()"
   ]
  },
  {
   "cell_type": "code",
   "execution_count": 3,
   "metadata": {},
   "outputs": [],
   "source": [
    "for x in [1, 2, 3, 4, 5, 6]:\n",
    "    pmf.Set(x, 1/6.0)"
   ]
  },
  {
   "cell_type": "code",
   "execution_count": 4,
   "metadata": {},
   "outputs": [
    {
     "data": {
      "text/plain": [
       "{1: 0.16666666666666666,\n",
       " 2: 0.16666666666666666,\n",
       " 3: 0.16666666666666666,\n",
       " 4: 0.16666666666666666,\n",
       " 5: 0.16666666666666666,\n",
       " 6: 0.16666666666666666}"
      ]
     },
     "execution_count": 4,
     "metadata": {},
     "output_type": "execute_result"
    }
   ],
   "source": [
    "pmf.options"
   ]
  },
  {
   "cell_type": "code",
   "execution_count": 5,
   "metadata": {},
   "outputs": [
    {
     "name": "stdout",
     "output_type": "stream",
     "text": [
      "0.16666666666666666\n"
     ]
    }
   ],
   "source": [
    "pmf.Prob(2)"
   ]
  },
  {
   "cell_type": "code",
   "execution_count": 6,
   "metadata": {},
   "outputs": [],
   "source": [
    "pmf.Normalize()"
   ]
  },
  {
   "cell_type": "code",
   "execution_count": 7,
   "metadata": {},
   "outputs": [
    {
     "name": "stdout",
     "output_type": "stream",
     "text": [
      "A Pmf object with 6 values\n"
     ]
    }
   ],
   "source": [
    "print(pmf)"
   ]
  },
  {
   "cell_type": "markdown",
   "metadata": {},
   "source": [
    "## The Monty Hall problem"
   ]
  },
  {
   "cell_type": "code",
   "execution_count": 8,
   "metadata": {},
   "outputs": [],
   "source": [
    "class Monty(Pmf):\n",
    "    '''\n",
    "    A specific PMF class for the Monty Hall game\n",
    "    '''\n",
    "    def __init__(self, hypos):\n",
    "        Pmf.__init__(self)\n",
    "        for hypo in hypos:\n",
    "            # initalize all doors with equal probability\n",
    "            self.Set(hypo, 1)\n",
    "        self.Normalize()\n",
    "    \n",
    "    def Update(self, data):\n",
    "        for hypo in self.options.keys():\n",
    "            like = self.Liklihood(data, hypo)\n",
    "            self.Mult(hypo, like)\n",
    "        self.Normalize()\n",
    "    \n",
    "    def Liklihood(self, data, hypo):\n",
    "        if hypo == data:\n",
    "            return(0)\n",
    "        elif hypo == 'A':\n",
    "            return 0.5\n",
    "        else:\n",
    "            return 1\n"
   ]
  },
  {
   "cell_type": "code",
   "execution_count": 9,
   "metadata": {},
   "outputs": [],
   "source": [
    "hypos = \"ABC\"\n",
    "pmf = Monty(hypos)"
   ]
  },
  {
   "cell_type": "markdown",
   "metadata": {},
   "source": [
    "Update the hypothesis with \"B\"."
   ]
  },
  {
   "cell_type": "code",
   "execution_count": 12,
   "metadata": {},
   "outputs": [],
   "source": [
    "pmf.Update(\"B\")\n",
    "pmf.options"
   ]
  }
 ],
 "metadata": {
  "kernelspec": {
   "display_name": "Python 3",
   "language": "python",
   "name": "python3"
  },
  "language_info": {
   "codemirror_mode": {
    "name": "ipython",
    "version": 3
   },
   "file_extension": ".py",
   "mimetype": "text/x-python",
   "name": "python",
   "nbconvert_exporter": "python",
   "pygments_lexer": "ipython3",
   "version": "3.6.8"
  }
 },
 "nbformat": 4,
 "nbformat_minor": 2
}
