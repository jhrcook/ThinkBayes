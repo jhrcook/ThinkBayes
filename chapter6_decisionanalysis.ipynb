{
 "cells": [
  {
   "cell_type": "markdown",
   "metadata": {},
   "source": [
    "# Chapter 6. Decision Analysis"
   ]
  },
  {
   "cell_type": "code",
   "execution_count": 1,
   "metadata": {},
   "outputs": [],
   "source": [
    "from my_suite import Pmf\n",
    "import pandas as pd\n",
    "from scipy.stats import gaussian_kde\n",
    "import numpy as np\n",
    "import matplotlib.pyplot as plt"
   ]
  },
  {
   "cell_type": "markdown",
   "metadata": {},
   "source": [
    "## 6.1 The *Price is Right* problem\n",
    "\n",
    "Two contestants, Nate and Letia, play \"The Showcase\" on *The Price is Right*. Here, they are each shown a different select of prizes and told to guess the total cost without going over. Nate guesses over and Letia gues $78 under. Thus Nate gets nothing, and Letia wins her prizes, and by being with $250, also Nate's prizes.\n",
    "\n",
    "Several questions for the Bayesian thinker:\n",
    "\n",
    "1. Before seeing the prizes, what prior beliefs should the contestants have about the prices of the showcase?\n",
    "2. After seeing the prizes, how should the contestants update those beliefs?\n",
    "3. Based on the posterior distributions, what should the contestant bid?\n",
    "\n",
    "Question 3 demonstrates a common use of Bayesian analysis: **decision analysis**.\n",
    "\n",
    "## 6.2 The prior\n",
    "\n",
    "The prior can be constructed by just taking the prices for previous showcases documented by fans.\n",
    "\n",
    "## 6.3 Probability density functions\n",
    "\n",
    "The **probability density function (PDF)** is a continuous version of a PMF where the possible values make up a continous range rather than a discrete set. Integrating a density over a given range calculates the probability of those values. However, we will instead use PDFs as part of a liklihood function.\n",
    "\n",
    "## 6.4 Representing PDFs\n",
    "\n",
    "We define the class `Pdf` as an abstract type."
   ]
  },
  {
   "cell_type": "code",
   "execution_count": 2,
   "metadata": {},
   "outputs": [],
   "source": [
    "class Pdf(object):\n",
    "    \n",
    "    def Density(self, x):\n",
    "        raise UnimplementedMethodException()\n",
    "    \n",
    "    def MakePmf(self, xs):\n",
    "        pmf = Pmf()\n",
    "        for x in xs:\n",
    "            pmf.Set(x, self.Density(x))\n",
    "        pmf.Normalize\n",
    "        return pmf"
   ]
  },
  {
   "cell_type": "markdown",
   "metadata": {},
   "source": [
    "`Density()` takes a value, `x`, and returns the corresponding density; this will have to be implemented by a child class. `MakePmf()` makes a discrete approximation of the PDF.\n",
    "\n",
    "The following `GuassianPdf` is a concrete type that provides a `Density()` function."
   ]
  },
  {
   "cell_type": "code",
   "execution_count": 3,
   "metadata": {},
   "outputs": [],
   "source": [
    "class GuassianPdf(Pdf):\n",
    "    '''\n",
    "    Create a Guassian PDF given a average (mu)\n",
    "    and standard dev (sigma)\n",
    "    '''\n",
    "    def __init__(self, mu, sigma):\n",
    "        self.mu = mu\n",
    "        self.sigma = sigma\n",
    "    \n",
    "    def Density(self, x):\n",
    "        return scipy.stats.norm.pdf(x, self.mu, self.sigma)"
   ]
  },
  {
   "cell_type": "markdown",
   "metadata": {},
   "source": [
    "The following `EstimatePdf` use kernel density estimation to create the PDF."
   ]
  },
  {
   "cell_type": "code",
   "execution_count": 4,
   "metadata": {},
   "outputs": [],
   "source": [
    "class EstimatePdf(Pdf):\n",
    "    '''\n",
    "    Create a PDF using kernel density estimate (KDE)\n",
    "    '''\n",
    "    def __init__(self, sample):\n",
    "        self.kde = gaussian_kde(sample)\n",
    "    \n",
    "    def Density(self, x):\n",
    "        return self.kde.evaluate(x)"
   ]
  },
  {
   "cell_type": "markdown",
   "metadata": {},
   "source": [
    "Here is an example of using KDE to create the prior distribution for the showcase prices."
   ]
  },
  {
   "cell_type": "code",
   "execution_count": 5,
   "metadata": {},
   "outputs": [
    {
     "data": {
      "image/png": "[encoded data removed]",
      "text/plain": [
       "<Figure size 432x288 with 1 Axes>"
      ]
     },
     "metadata": {
      "needs_background": "light"
     },
     "output_type": "display_data"
    }
   ],
   "source": [
    "prices2011 = pd.read_csv(\"http://thinkbayes.com/showcases.2011.csv\").set_index(\"Unnamed: 0\").loc['Showcase 1', :].tolist()\n",
    "prices2012 = pd.read_csv(\"http://thinkbayes.com/showcases.2012.csv\").set_index(\"Unnamed: 0\").loc['Showcase 1', :].tolist()\n",
    "prices_showcase1 = [int(i) for i in prices2011 + prices2012]\n",
    "pdf = EstimatePdf(prices_showcase1)\n",
    "low, high = 0, 75000\n",
    "n = 101\n",
    "xs = np.linspace(low, high, n)\n",
    "pmf = pdf.MakePmf(xs)\n",
    "# plotting\n",
    "plt.plot(xs, list(pmf.Values()), color = 'dodgerblue', label = 'Showcase 1')\n",
    "plt.ylabel('Density')\n",
    "plt.xlabel('Price ($)')\n",
    "plt.title('PDF of The Showcase prices')\n",
    "plt.legend()\n",
    "plt.show()"
   ]
  },
  {
   "cell_type": "code",
   "execution_count": null,
   "metadata": {},
   "outputs": [],
   "source": []
  }
 ],
 "metadata": {
  "kernelspec": {
   "display_name": "Python 3",
   "language": "python",
   "name": "python3"
  },
  "language_info": {
   "codemirror_mode": {
    "name": "ipython",
    "version": 3
   },
   "file_extension": ".py",
   "mimetype": "text/x-python",
   "name": "python",
   "nbconvert_exporter": "python",
   "pygments_lexer": "ipython3",
   "version": "3.6.8"
  }
 },
 "nbformat": 4,
 "nbformat_minor": 2
}
