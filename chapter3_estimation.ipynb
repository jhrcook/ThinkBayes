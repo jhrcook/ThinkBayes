{
 "cells": [
  {
   "cell_type": "markdown",
   "metadata": {},
   "source": [
    "# Chapter 3. Estimation"
   ]
  },
  {
   "cell_type": "markdown",
   "metadata": {},
   "source": [
    "## The dice problem\n",
    "\n",
    "A box holds 5 different-sided dice: a 4-sided, 6-sided, 8-sided, 12-sided, and 20-sided.\n",
    "\n",
    "I select a single die, roll it, and get a 6. \n",
    "\n",
    "**Question:** What is the probability that I selected each die?\n",
    "\n",
    "*Strategy:*\n",
    "\n",
    "1. choose a representation for the hypothesis\n",
    "2. choose a representation for the data\n",
    "3. write the liklihood function"
   ]
  },
  {
   "cell_type": "markdown",
   "metadata": {},
   "source": [
    "### Create a class for the calculations"
   ]
  },
  {
   "cell_type": "markdown",
   "metadata": {},
   "source": [
    "First, I recreated the `Pmf` class from Chapter 2, renaming some of the attributes. I also took this as a chance to refamilliarize myself with the processes."
   ]
  },
  {
   "cell_type": "code",
   "execution_count": 1,
   "metadata": {},
   "outputs": [],
   "source": [
    "class Pmf:\n",
    "    '''\n",
    "    A class to define and maitain a probability mass function\n",
    "    '''\n",
    "    def __init__(self):\n",
    "        self.hypotheses = dict()\n",
    "    \n",
    "    \n",
    "    # sets the `hypo` to the probability `prob`\n",
    "    def Set(self, hypo, prob):\n",
    "        self.hypotheses[hypo] = prob\n",
    "    \n",
    "    \n",
    "    # increments the object `hypo` by `n`\n",
    "    # useful for building the PMF from an iterator\n",
    "    def Incr(self, hypo, n):\n",
    "        if obj in self.options.keys():\n",
    "            self.hypotheses[hypo] += 1\n",
    "        else:\n",
    "            self.hypotheses[hypo] = 1\n",
    "    \n",
    "    \n",
    "    # nromalize the PMF back to a sum of 1\n",
    "    def Normalize(self):\n",
    "        possible_hypos = sum(self.hypotheses.values())\n",
    "        if possible_hypos > 0:\n",
    "            for hypo in self.hypotheses.keys():\n",
    "                self.hypotheses[hypo] = self.hypotheses[hypo] / possible_hypos\n",
    "        else:\n",
    "            print(\"No values set\")\n",
    "    \n",
    "    \n",
    "    # return the probability of hypothesis `hypo`\n",
    "    def Prob(self, hypo):\n",
    "        if obj in self.hypotheses.keys():\n",
    "            print(self.hypotheses[hypo])\n",
    "        else:\n",
    "            print(hypo + \"has not been set, yet\")\n",
    "    \n",
    "    \n",
    "    # multiply the current prob of object `hypo` by `new_p`\n",
    "    def Mult(self, hypo, new_p):\n",
    "        if hypo in self.hypotheses.keys():\n",
    "            self.hypotheses[hypo] *= new_p\n",
    "    \n",
    "    \n",
    "    # print statement\n",
    "    def __str__(self):\n",
    "        msg = \"\"\n",
    "        for hypo in self.hypotheses.keys():\n",
    "            msg = msg + str(hypo) + ': ' + str(self.hypotheses[hypo]) + '\\n'\n",
    "        return(msg)"
   ]
  },
  {
   "cell_type": "markdown",
   "metadata": {},
   "source": [
    "The `Suite` class inherits from `Pmf` and is just a simple wrapper that creates the PMFs and updates them based on new data. "
   ]
  },
  {
   "cell_type": "code",
   "execution_count": 2,
   "metadata": {},
   "outputs": [],
   "source": [
    "class Suite(Pmf):\n",
    "    '''\n",
    "    Creating a Pmf for multiple hypotheses\n",
    "    '''\n",
    "    def __init__(self, hypos):\n",
    "        Pmf.__init__(self)\n",
    "        for hypo in hypos:\n",
    "            self.Set(hypo, 1)\n",
    "        self.Normalize()\n",
    "    \n",
    "    \n",
    "    # update the hypotheses using new data\n",
    "    def Update(self, data):\n",
    "        for hypo in self.hypotheses.keys():\n",
    "            like = self.Liklihood(data, hypo)\n",
    "            self.Mult(hypo, like)\n",
    "        self.Normalize()"
   ]
  },
  {
   "cell_type": "markdown",
   "metadata": {},
   "source": [
    "Then, I create class `Dice` that inherits from `Suite` and `Pmf` and adds the `Liklihood()` method. The `Liklihood()` method calculates the liklihood of observing the data under the hypothesis. `Update()`, in the parent `Suite` class, runs each hypothesis through `Liklihood()` when new data is input."
   ]
  },
  {
   "cell_type": "code",
   "execution_count": 3,
   "metadata": {},
   "outputs": [],
   "source": [
    "class Dice(Suite):\n",
    "    '''\n",
    "    Which dice was chosen from the suite of possible die\n",
    "    '''\n",
    "    \n",
    "    # calculate the liklihood of `data` under `hypo`\n",
    "    def Liklihood(self, data, hypo):\n",
    "        if hypo < data:\n",
    "            return 0\n",
    "        else:\n",
    "            return 1.0/hypo"
   ]
  },
  {
   "cell_type": "markdown",
   "metadata": {},
   "source": [
    "### Create the `Dice` object"
   ]
  },
  {
   "cell_type": "markdown",
   "metadata": {},
   "source": [
    "I create an `Dice` object containing the possible die as the hypotheses."
   ]
  },
  {
   "cell_type": "code",
   "execution_count": 4,
   "metadata": {},
   "outputs": [
    {
     "name": "stdout",
     "output_type": "stream",
     "text": [
      "4: 0.2\n",
      "6: 0.2\n",
      "8: 0.2\n",
      "12: 0.2\n",
      "20: 0.2\n",
      "\n"
     ]
    }
   ],
   "source": [
    "suite = Dice([4, 6, 8, 12, 20])\n",
    "print(suite)"
   ]
  },
  {
   "cell_type": "markdown",
   "metadata": {},
   "source": [
    "At the beginning, all die are equally likely to have been drawn. Now, I add the information from rolling a 6."
   ]
  },
  {
   "cell_type": "code",
   "execution_count": 5,
   "metadata": {},
   "outputs": [
    {
     "name": "stdout",
     "output_type": "stream",
     "text": [
      "4: 0.0\n",
      "6: 0.3921568627450981\n",
      "8: 0.2941176470588236\n",
      "12: 0.19607843137254904\n",
      "20: 0.11764705882352945\n",
      "\n"
     ]
    }
   ],
   "source": [
    "suite.Update(6)\n",
    "print(suite)"
   ]
  },
  {
   "cell_type": "markdown",
   "metadata": {},
   "source": [
    "I then rolled the dice a few more times and updated my hypotheses."
   ]
  },
  {
   "cell_type": "code",
   "execution_count": 6,
   "metadata": {},
   "outputs": [],
   "source": [
    "# new rolls\n",
    "new_rolls = [6, 8, 7, 7, 5, 4]\n",
    "for roll in new_rolls:\n",
    "    suite.Update(roll)"
   ]
  },
  {
   "cell_type": "markdown",
   "metadata": {},
   "source": [
    "Now, the liklihoods are beginning to converge on the selected dice being 8-sided."
   ]
  },
  {
   "cell_type": "code",
   "execution_count": 7,
   "metadata": {},
   "outputs": [
    {
     "name": "stdout",
     "output_type": "stream",
     "text": [
      "4: 0.0\n",
      "6: 0.0\n",
      "8: 0.9432484536722127\n",
      "12: 0.055206128061290875\n",
      "20: 0.0015454182664965536\n",
      "\n"
     ]
    }
   ],
   "source": [
    "print(suite)"
   ]
  },
  {
   "cell_type": "markdown",
   "metadata": {},
   "source": [
    "What if I rolled a 9?"
   ]
  },
  {
   "cell_type": "code",
   "execution_count": 8,
   "metadata": {},
   "outputs": [
    {
     "name": "stdout",
     "output_type": "stream",
     "text": [
      "4: 0.0\n",
      "6: 0.0\n",
      "8: 0.0\n",
      "12: 0.9834812908813502\n",
      "20: 0.016518709118649718\n",
      "\n"
     ]
    }
   ],
   "source": [
    "suite.Update(9)\n",
    "print(suite)"
   ]
  },
  {
   "cell_type": "markdown",
   "metadata": {},
   "source": [
    "## The locomotive problem\n",
    "\n",
    "### Define the problem\n",
    "\n",
    "**Problem:** A railroad numbers its locomotives in order $1$ through $N$. One day, you see a locomotive with the number $60$. Estimate how many locotmotives the railroad has.\n",
    "\n",
    "We cknow there are at least $60$ locomotives. To figure out how many more, we break the problem into two steps:\n",
    "\n",
    "1. What did we know about $N$ before we saw the data (i.e. what is the *prior*)?\n",
    "2. For any given value of N, what is the liklihood of seeing a locomotive with the number $60$ (i.e. *the likliood of seeing the data*)?\n",
    "\n",
    "The prior is fairly arbitarary at this point. Downey begins by assuming that $N$ is likely to be somewhere between $1$ and $1,000$."
   ]
  },
  {
   "cell_type": "code",
   "execution_count": 9,
   "metadata": {},
   "outputs": [],
   "source": [
    "hypos = range(1, 1001)"
   ]
  },
  {
   "cell_type": "markdown",
   "metadata": {},
   "source": [
    "We now claim that there is equal liklihood of seeing any of the trains, thus $1/N$."
   ]
  },
  {
   "cell_type": "markdown",
   "metadata": {},
   "source": [
    "### Create the `Train` class"
   ]
  },
  {
   "cell_type": "code",
   "execution_count": 10,
   "metadata": {},
   "outputs": [],
   "source": [
    "class Train(Suite):\n",
    "    '''\n",
    "    How many trains are there?\n",
    "    '''\n",
    "    \n",
    "    def Liklihood(self, data, hypo):\n",
    "        if hypo < data:\n",
    "            return 0\n",
    "        else:\n",
    "            return 1.0/hypo"
   ]
  },
  {
   "cell_type": "markdown",
   "metadata": {},
   "source": [
    "### Estimate the number of trains\n",
    "\n",
    "I created a `Train` object and then updated the hypotheses with the observation of seeing the locomotive number $60$."
   ]
  },
  {
   "cell_type": "code",
   "execution_count": 11,
   "metadata": {},
   "outputs": [],
   "source": [
    "suite = Train(hypos)\n",
    "suite.Update(60)"
   ]
  },
  {
   "cell_type": "code",
   "execution_count": 12,
   "metadata": {},
   "outputs": [
    {
     "data": {
      "text/plain": [
       "<Figure size 640x480 with 1 Axes>"
      ]
     },
     "metadata": {},
     "output_type": "display_data"
    }
   ],
   "source": [
    "import matplotlib.pyplot as plt\n",
    "plt.plot(suite.hypotheses.values())\n",
    "plt.ylabel(\"probability\")\n",
    "plt.xlabel(\"number of trains\")\n",
    "plt.title(\"Current estimate of number of trains\")\n",
    "plt.show()"
   ]
  },
  {
   "cell_type": "markdown",
   "metadata": {},
   "source": [
    "Understandably, the best choice is to guess $60$ as the answer can't be anything less, and it has the fewest possible number of trains. However, we could also suggest guessing the mean of the posterior probability."
   ]
  },
  {
   "cell_type": "code",
   "execution_count": 13,
   "metadata": {},
   "outputs": [],
   "source": [
    "# calculate the mean of the posterior of a Suite object `s`\n",
    "def Mean(s):\n",
    "    total = 0\n",
    "    for hypo, prob in s.hypotheses.items():\n",
    "        total += hypo * prob\n",
    "    return total"
   ]
  },
  {
   "cell_type": "code",
   "execution_count": 14,
   "metadata": {},
   "outputs": [
    {
     "data": {
      "text/plain": [
       "333.41989326371095"
      ]
     },
     "execution_count": 14,
     "metadata": {},
     "output_type": "execute_result"
    }
   ],
   "source": [
    "Mean(suite)"
   ]
  },
  {
   "cell_type": "markdown",
   "metadata": {},
   "source": [
    "Therefore, $333$ is the mean of the posterior probabiilty and could be another reasonable suggestion for the estimation."
   ]
  },
  {
   "cell_type": "markdown",
   "metadata": {},
   "source": [
    "### What about that prior?\n",
    "\n",
    "The original prior was that there are somewhere between $1$ and $1000$ locomotives, and each of those possiblities is equally likely. First, if we were to change that upper limit, so to does the mean of the posterior probability (the value with the highest probability will always be $60$, though)."
   ]
  },
  {
   "cell_type": "code",
   "execution_count": 15,
   "metadata": {},
   "outputs": [
    {
     "data": {
      "text/plain": [
       "552.179017164631"
      ]
     },
     "execution_count": 15,
     "metadata": {},
     "output_type": "execute_result"
    }
   ],
   "source": [
    "# with the upper limit of 2000 trains\n",
    "suite2 = Train(range(1, 2001))\n",
    "suite2.Update(60)\n",
    "Mean(suite2)"
   ]
  },
  {
   "cell_type": "code",
   "execution_count": 16,
   "metadata": {},
   "outputs": [
    {
     "data": {
      "text/plain": [
       "207.079227983409"
      ]
     },
     "execution_count": 16,
     "metadata": {},
     "output_type": "execute_result"
    }
   ],
   "source": [
    "# with the upper limit of 500 trains\n",
    "suite3 = Train(range(1, 501))\n",
    "suite3.Update(60)\n",
    "Mean(suite3)"
   ]
  },
  {
   "cell_type": "markdown",
   "metadata": {},
   "source": [
    "The mean of the posterior moves dramatically depending on how many locomotives we think could possibly be apart of one company.\n",
    "\n",
    "However, the largest limitation is really the lack of data - we only have a single data point: we saw train $60$. If we were to see a few other trains, then the mean of the posterior probabilities begin to converge."
   ]
  },
  {
   "cell_type": "code",
   "execution_count": 17,
   "metadata": {},
   "outputs": [
    {
     "name": "stdout",
     "output_type": "stream",
     "text": [
      "164.30558642273363\n",
      "171.33818109150937\n",
      "151.84958795903822\n"
     ]
    }
   ],
   "source": [
    "# make 3 suites with different upper limits for the number of trains\n",
    "suite = Train(range(1, 1001))\n",
    "suite2 = Train(range(1, 2001))\n",
    "suite3 = Train(range(1, 501))\n",
    "\n",
    "# update the posterior probabilities after seeing 3 trains\n",
    "for data in [30, 60, 90]:\n",
    "    suite.Update(data)\n",
    "    suite2.Update(data)\n",
    "    suite3.Update(data)\n",
    "\n",
    "\n",
    "# print the means of the posterior probabilities\n",
    "print(Mean(suite))\n",
    "print(Mean(suite2))\n",
    "print(Mean(suite3))"
   ]
  },
  {
   "cell_type": "markdown",
   "metadata": {},
   "source": [
    "Now, the means of the posterior probabilities are much closer with only a few more data points."
   ]
  },
  {
   "cell_type": "markdown",
   "metadata": {},
   "source": [
    "### A new prior\n",
    "\n",
    "As stated above, we bagen by assuming that any number of trains between $1$ and our upper limit, $1000$, trains was equally likely. We were therefore using a uniform distribution. Instead, one that decreases as the values get larger would be preferrable. For example, we can use the power law: the number of companies with a given number of trains is inversely proportionate to the number of locomotives.\n",
    "\n",
    "$$ \\text{PMF}(x) \\propto (\\frac{1}{x})^{\\alpha} $$\n",
    "\n",
    "where $\\alpha$ is a parameter usually near $1$.\n",
    "\n",
    "We can recode the `Train` class to use this distribution for the prior. "
   ]
  },
  {
   "cell_type": "code",
   "execution_count": 18,
   "metadata": {},
   "outputs": [],
   "source": [
    "class PowerTrain(Suite):\n",
    "    '''\n",
    "    To estimate the number of trains total after seeing a select number.\n",
    "    The prior distribution follows the power law\n",
    "    '''\n",
    "    \n",
    "    def __init__(self, hypos, alpha=1.0):\n",
    "        Pmf.__init__(self)\n",
    "        for hypo in hypos:\n",
    "            self.Set(hypo, hypo**(-alpha))\n",
    "        self.Normalize\n",
    "    \n",
    "    # calculate the liklihood of `data` under `hypo`\n",
    "    def Liklihood(self, data, hypo):\n",
    "        if hypo < data:\n",
    "            return 0\n",
    "        else:\n",
    "            return 1.0/hypo"
   ]
  },
  {
   "cell_type": "code",
   "execution_count": 19,
   "metadata": {},
   "outputs": [],
   "source": [
    "hypos = range(1, 1001)\n",
    "suite_power = PowerTrain(hypos)\n",
    "suite_power.Update(60)"
   ]
  },
  {
   "cell_type": "code",
   "execution_count": 20,
   "metadata": {},
   "outputs": [
    {
     "data": {
      "image/png": "[encoded data removed]",
      "text/plain": [
       "<Figure size 432x288 with 1 Axes>"
      ]
     },
     "metadata": {
      "needs_background": "light"
     },
     "output_type": "display_data"
    }
   ],
   "source": [
    "# remake the original Train estimations to plot for comparison\n",
    "suite = Train(hypos)\n",
    "suite.Update(60)\n",
    "\n",
    "plt.plot(suite.hypotheses.values(), color = \"dodgerblue\", label = \"uniform\")\n",
    "plt.plot(suite_power.hypotheses.values(), color = \"tomato\", label = \"power law\")\n",
    "plt.ylabel(\"probability\")\n",
    "plt.xlabel(\"number of trains\")\n",
    "plt.title(\"Estimate the of number of trains\")\n",
    "plt.legend()\n",
    "plt.show()"
   ]
  },
  {
   "cell_type": "markdown",
   "metadata": {},
   "source": [
    "The new distribution still has a spike at the lowest possible value, but the distribution is now much more shifted towards lower values.\n",
    "\n",
    "Additionally, with the addition of more data points (i.e. more train numbers), the mean values of the posterior distributions converges much more quickly for different upper limits on the priors."
   ]
  },
  {
   "cell_type": "code",
   "execution_count": 21,
   "metadata": {},
   "outputs": [
    {
     "name": "stdout",
     "output_type": "stream",
     "text": [
      "133.27523137503124\n",
      "133.99746308073065\n",
      "130.70846986256007\n"
     ]
    }
   ],
   "source": [
    "# make 3 suites with different upper limits for the number of trains\n",
    "power_suite = PowerTrain(range(1, 1001))\n",
    "power_suite2 = PowerTrain(range(1, 2001))\n",
    "power_suite3 = PowerTrain(range(1, 501))\n",
    "\n",
    "# update the posterior probabilities after seeing 3 trains\n",
    "for data in [30, 60, 90]:\n",
    "    power_suite.Update(data)\n",
    "    power_suite2.Update(data)\n",
    "    power_suite3.Update(data)\n",
    "\n",
    "\n",
    "# print the means of the posterior probabilities\n",
    "print(Mean(power_suite))\n",
    "print(Mean(power_suite2))\n",
    "print(Mean(power_suite3))"
   ]
  },
  {
   "cell_type": "markdown",
   "metadata": {},
   "source": [
    "## Credible intervals\n",
    "\n",
    "The goal is always to summarise the posterior. We have so far accomplished this by using the the maximum liklihood and the expected value (weighted average value). Next, I sought to determine an interval such that there is a 90% chance that the unknown value falls within it. This is called the **credible interval**.\n",
    "\n",
    "An easy way to do this is record the values that correspond to probabilities 5% and 95% (i.e. the 5th and 9th percentiles)."
   ]
  },
  {
   "cell_type": "code",
   "execution_count": 23,
   "metadata": {},
   "outputs": [
    {
     "name": "stdout",
     "output_type": "stream",
     "text": [
      "(91, 242)\n"
     ]
    }
   ],
   "source": [
    "def Percentile(pmf, percentage):\n",
    "    p = percentage / 100.0\n",
    "    total = 0\n",
    "    for val, prob in pmf.hypotheses.items():\n",
    "        total += prob\n",
    "        if total >= p:\n",
    "            return val\n",
    "\n",
    "interval = Percentile(power_suite, 5), Percentile(power_suite, 95)\n",
    "print(interval)"
   ]
  },
  {
   "cell_type": "markdown",
   "metadata": {},
   "source": [
    "## Cumulative Distribution functions\n",
    "\n",
    "The above function found the value at which `percentage` of the values were covered. A function that defines this value for all percentages is a **cumulative distribution function**. This function can be calculated from a PMF and back as they contian the same information. Creating the CDF from a PMF take $O(n)$ time and looking up a value from the CDF takes $O(\\log{n})$ times (because it is stored in a `dict`, presumably).\n",
    "\n",
    "---\n",
    "\n",
    "After finishing this notebook, I moved the `Pmf` and `Suite` classes to \"my_suite.py\" for further use via `import` statements."
   ]
  },
  {
   "cell_type": "code",
   "execution_count": null,
   "metadata": {},
   "outputs": [],
   "source": []
  }
 ],
 "metadata": {
  "kernelspec": {
   "display_name": "Python 3",
   "language": "python",
   "name": "python3"
  },
  "language_info": {
   "codemirror_mode": {
    "name": "ipython",
    "version": 3
   },
   "file_extension": ".py",
   "mimetype": "text/x-python",
   "name": "python",
   "nbconvert_exporter": "python",
   "pygments_lexer": "ipython3",
   "version": "3.6.8"
  }
 },
 "nbformat": 4,
 "nbformat_minor": 2
}
