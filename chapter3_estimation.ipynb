{
 "cells": [
  {
   "cell_type": "markdown",
   "metadata": {},
   "source": [
    "# Chapter 3. Estimation"
   ]
  },
  {
   "cell_type": "markdown",
   "metadata": {},
   "source": [
    "## The dice problem\n",
    "\n",
    "A box holds 5 different-sided dice: a 4-sided, 6-sided, 8-sided, 12-sided, and 20-sided.\n",
    "\n",
    "I select a single die, roll it, and get a 6. \n",
    "\n",
    "**Question:** What is the probability that I selected each die?\n",
    "\n",
    "*Strategy:*\n",
    "\n",
    "1. choose a representation for the hypothesis\n",
    "2. choose a representation for the data\n",
    "3. write the liklihood function"
   ]
  },
  {
   "cell_type": "markdown",
   "metadata": {},
   "source": [
    "### Create a class for the calculations"
   ]
  },
  {
   "cell_type": "markdown",
   "metadata": {},
   "source": [
    "First, I recreated the `Pmf` class from Chapter 2, renaming some of the attributes. I also took this as a chance to refamilliarize myself with the processes."
   ]
  },
  {
   "cell_type": "code",
   "execution_count": 52,
   "metadata": {},
   "outputs": [],
   "source": [
    "class Pmf:\n",
    "    '''\n",
    "    A class to define and maitain a probability mass function\n",
    "    '''\n",
    "    def __init__(self):\n",
    "        self.hypotheses = dict()\n",
    "    \n",
    "    \n",
    "    # sets the `hypo` to the probability `prob`\n",
    "    def Set(self, hypo, prob):\n",
    "        self.hypotheses[hypo] = prob\n",
    "    \n",
    "    \n",
    "    # increments the object `hypo` by `n`\n",
    "    # useful for building the PMF from an iterator\n",
    "    def Incr(self, hypo, n):\n",
    "        if obj in self.options.keys():\n",
    "            self.hypotheses[hypo] += 1\n",
    "        else:\n",
    "            self.hypotheses[hypo] = 1\n",
    "    \n",
    "    \n",
    "    # nromalize the PMF back to a sum of 1\n",
    "    def Normalize(self):\n",
    "        possible_hypos = sum(self.hypotheses.values())\n",
    "        if possible_hypos > 0:\n",
    "            for hypo in self.hypotheses.keys():\n",
    "                self.hypotheses[hypo] = self.hypotheses[hypo] / possible_hypos\n",
    "        else:\n",
    "            print(\"No values set\")\n",
    "    \n",
    "    \n",
    "    # return the probability of hypothesis `hypo`\n",
    "    def Prob(self, hypo):\n",
    "        if obj in self.hypotheses.keys():\n",
    "            print(self.hypotheses[hypo])\n",
    "        else:\n",
    "            print(hypo + \"has not been set, yet\")\n",
    "    \n",
    "    \n",
    "    # multiply the current prob of object `hypo` by `new_p`\n",
    "    def Mult(self, hypo, new_p):\n",
    "        if hypo in self.hypotheses.keys():\n",
    "            self.hypotheses[hypo] *= new_p\n",
    "    \n",
    "    \n",
    "    # print statement\n",
    "    def __str__(self):\n",
    "        msg = \"\"\n",
    "        for hypo in self.hypotheses.keys():\n",
    "            msg = msg + str(hypo) + ': ' + str(self.hypotheses[hypo]) + '\\n'\n",
    "        return(msg)"
   ]
  },
  {
   "cell_type": "markdown",
   "metadata": {},
   "source": [
    "The `Suite` class inherits from `Pmf` and is just a simple wrapper that creates the PMFs and updates them based on new data. "
   ]
  },
  {
   "cell_type": "code",
   "execution_count": 53,
   "metadata": {},
   "outputs": [],
   "source": [
    "class Suite(Pmf):\n",
    "    '''\n",
    "    Creating a Pmf for multiple hypotheses\n",
    "    '''\n",
    "    def __init__(self, hypos):\n",
    "        Pmf.__init__(self)\n",
    "        for hypo in hypos:\n",
    "            self.Set(hypo, 1)\n",
    "        self.Normalize()\n",
    "    \n",
    "    \n",
    "    # update the hypotheses using new data\n",
    "    def Update(self, data):\n",
    "        for hypo in self.hypotheses.keys():\n",
    "            like = self.Liklihood(data, hypo)\n",
    "            self.Mult(hypo, like)\n",
    "        self.Normalize()"
   ]
  },
  {
   "cell_type": "markdown",
   "metadata": {},
   "source": [
    "Then, I create class `Dice` that inherits from `Suite` and `Pmf` and adds the `Liklihood()` method. The `Liklihood()` method calculates the liklihood of observing the data under the hypothesis. `Update()`, in the parent `Suite` class, runs each hypothesis through `Liklihood()` when new data is input."
   ]
  },
  {
   "cell_type": "code",
   "execution_count": 54,
   "metadata": {},
   "outputs": [],
   "source": [
    "class Dice(Suite):\n",
    "    '''\n",
    "    Which dice was chosen from the suite of possible die\n",
    "    '''\n",
    "    \n",
    "    # calculate the liklihood of `data` under `hypo`\n",
    "    def Liklihood(self, data, hypo):\n",
    "        if hypo < data:\n",
    "            return 0\n",
    "        else:\n",
    "            return 1.0/hypo"
   ]
  },
  {
   "cell_type": "markdown",
   "metadata": {},
   "source": [
    "### Create the `Dice` object"
   ]
  },
  {
   "cell_type": "markdown",
   "metadata": {},
   "source": [
    "I create an `Dice` object containing the possible die as the hypotheses."
   ]
  },
  {
   "cell_type": "code",
   "execution_count": 55,
   "metadata": {},
   "outputs": [
    {
     "name": "stdout",
     "output_type": "stream",
     "text": [
      "4: 0.2\n",
      "6: 0.2\n",
      "8: 0.2\n",
      "12: 0.2\n",
      "20: 0.2\n",
      "\n"
     ]
    }
   ],
   "source": [
    "suite = Dice([4, 6, 8, 12, 20])\n",
    "print(suite)"
   ]
  },
  {
   "cell_type": "markdown",
   "metadata": {},
   "source": [
    "At the beginning, all die are equally likely to have been drawn. Now, I add the information from rolling a 6."
   ]
  },
  {
   "cell_type": "code",
   "execution_count": 56,
   "metadata": {},
   "outputs": [
    {
     "name": "stdout",
     "output_type": "stream",
     "text": [
      "4: 0.0\n",
      "6: 0.3921568627450981\n",
      "8: 0.2941176470588236\n",
      "12: 0.19607843137254904\n",
      "20: 0.11764705882352945\n",
      "\n"
     ]
    }
   ],
   "source": [
    "suite.Update(6)\n",
    "print(suite)"
   ]
  },
  {
   "cell_type": "markdown",
   "metadata": {},
   "source": [
    "I then rolled the dice a few more times and updated my hypotheses."
   ]
  },
  {
   "cell_type": "code",
   "execution_count": 57,
   "metadata": {},
   "outputs": [],
   "source": [
    "# new rolls\n",
    "new_rolls = [6, 8, 7, 7, 5, 4]\n",
    "for roll in new_rolls:\n",
    "    suite.Update(roll)"
   ]
  },
  {
   "cell_type": "markdown",
   "metadata": {},
   "source": [
    "Now, the liklihoods are beginning to converge on the selected dice being 8-sided."
   ]
  },
  {
   "cell_type": "code",
   "execution_count": 58,
   "metadata": {},
   "outputs": [
    {
     "name": "stdout",
     "output_type": "stream",
     "text": [
      "4: 0.0\n",
      "6: 0.0\n",
      "8: 0.9432484536722127\n",
      "12: 0.055206128061290875\n",
      "20: 0.0015454182664965536\n",
      "\n"
     ]
    }
   ],
   "source": [
    "print(suite)"
   ]
  },
  {
   "cell_type": "markdown",
   "metadata": {},
   "source": [
    "What if I rolled a 9?"
   ]
  },
  {
   "cell_type": "code",
   "execution_count": 59,
   "metadata": {},
   "outputs": [
    {
     "name": "stdout",
     "output_type": "stream",
     "text": [
      "4: 0.0\n",
      "6: 0.0\n",
      "8: 0.0\n",
      "12: 0.9834812908813502\n",
      "20: 0.016518709118649718\n",
      "\n"
     ]
    }
   ],
   "source": [
    "suite.Update(9)\n",
    "print(suite)"
   ]
  },
  {
   "cell_type": "markdown",
   "metadata": {},
   "source": [
    "## The locomotive problem\n",
    "\n",
    "### Define the problem\n",
    "\n",
    "**Problem:** A railroad numbers its locomotives in order $1$ through $N$. One day, you see a locomotive with the number $60$. Estimate how many locotmotives the railroad has.\n",
    "\n",
    "We cknow there are at least $60$ locomotives. To figure out how many more, we break the problem into two steps:\n",
    "\n",
    "1. What did we know about $N$ before we saw the data (i.e. what is the *prior*)?\n",
    "2. For any given value of N, what is the liklihood of seeing a locomotive with the number $60$ (i.e. *the likliood of seeing the data*)?\n",
    "\n",
    "The prior is fairly arbitarary at this point. Downey begins by assuming that $N$ is likely to be somewhere between $1$ and $1,000$."
   ]
  },
  {
   "cell_type": "code",
   "execution_count": 47,
   "metadata": {},
   "outputs": [],
   "source": [
    "hypos = range(1, 1001)"
   ]
  },
  {
   "cell_type": "markdown",
   "metadata": {},
   "source": [
    "We now claim that there is equal liklihood of seeing any of the trains, thus $1/N$."
   ]
  },
  {
   "cell_type": "markdown",
   "metadata": {},
   "source": [
    "### Create the `Train` class"
   ]
  },
  {
   "cell_type": "code",
   "execution_count": 60,
   "metadata": {},
   "outputs": [],
   "source": [
    "class Train(Suite):\n",
    "    '''\n",
    "    How many trains are there?\n",
    "    '''\n",
    "    \n",
    "    def Liklihood(self, data, hypo):\n",
    "        if hypo < data:\n",
    "            return 0\n",
    "        else:\n",
    "            return 1.0/hypo"
   ]
  },
  {
   "cell_type": "markdown",
   "metadata": {},
   "source": [
    "### Estimate the number of trains\n",
    "\n",
    "I created a `Train` object and then updated the hypotheses with the observation of seeing the locomotive number $60$."
   ]
  },
  {
   "cell_type": "code",
   "execution_count": 61,
   "metadata": {},
   "outputs": [],
   "source": [
    "suite = Train(hypos)\n",
    "suite.Update(60)"
   ]
  },
  {
   "cell_type": "code",
   "execution_count": 69,
   "metadata": {},
   "outputs": [
    {
     "data": {
      "image/png": "[encoded data removed]",
      "text/plain": [
       "<Figure size 432x288 with 1 Axes>"
      ]
     },
     "metadata": {
      "needs_background": "light"
     },
     "output_type": "display_data"
    }
   ],
   "source": [
    "import matplotlib.pyplot as plt\n",
    "plt.plot(suite.hypotheses.values())\n",
    "plt.ylabel(\"probability\")\n",
    "plt.xlabel(\"number of trains\")\n",
    "plt.title(\"Current estimate of number of trains\")\n",
    "plt.show()"
   ]
  },
  {
   "cell_type": "markdown",
   "metadata": {},
   "source": [
    "Understandably, the best choice is to guess $60$ as the answer can't be anything less, and it has the fewest possible number of trains. However, we could also suggest guessing the mean of the posterior probability."
   ]
  },
  {
   "cell_type": "code",
   "execution_count": 71,
   "metadata": {},
   "outputs": [],
   "source": [
    "# calculate the mean of the posterior of a Suite object `s`\n",
    "def Mean(s):\n",
    "    total = 0\n",
    "    for hypo, prob in s.hypotheses.items():\n",
    "        total += hypo * prob\n",
    "    return total"
   ]
  },
  {
   "cell_type": "code",
   "execution_count": null,
   "metadata": {},
   "outputs": [],
   "source": []
  }
 ],
 "metadata": {
  "kernelspec": {
   "display_name": "Python 3",
   "language": "python",
   "name": "python3"
  },
  "language_info": {
   "codemirror_mode": {
    "name": "ipython",
    "version": 3
   },
   "file_extension": ".py",
   "mimetype": "text/x-python",
   "name": "python",
   "nbconvert_exporter": "python",
   "pygments_lexer": "ipython3",
   "version": "3.6.8"
  }
 },
 "nbformat": 4,
 "nbformat_minor": 2
}
