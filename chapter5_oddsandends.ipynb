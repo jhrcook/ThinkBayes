{
 "cells": [
  {
   "cell_type": "markdown",
   "metadata": {},
   "source": [
    "# Chapter 5. Odds and Ends\n",
    "\n",
    "## Odds\n",
    "\n",
    "The **odds in favor** of an event are the ratio of the probability it will occur to the probability that it will not. For example, if a team has a 75% chance of winning, their odds of winning are $0.75/0.25 = (\\frac{3}{4})/(\\frac{1}{4}) = \\frac{3}{1} = 3:1$, i.e. \"three to one odds\". We often use the expression \"**odds against**\" an event is when the probability of the event is low, and the equation is flipped. If the team had a 10% chance of winning, then the odds against them would be $0.9/0.1 = 9:1$, i.e. \"nine to one odds against.\"\n",
    "\n",
    "## The odds form of Bayes' theorem\n",
    "\n",
    "The **probability form of Bayes' theorem** is\n",
    "\n",
    "$$\n",
    "p(H|D) = \\frac{p(H)p(D|H)}{p(D)}\n",
    "$$\n",
    "\n",
    "If there are two hypotheses, $A$ and $B$, the ratio of posterior probabilties is\n",
    "\n",
    "$$\n",
    "p(A|D) = \\frac{p(A)p(D|A)}{p(D)} \\qquad p(B|D) = \\frac{p(B)p(D|B)}{p(D)} \\\\\n",
    "\\begin{align}\n",
    "\\frac{p(A|D)}{p(B|D)} &= \\frac{\\left(\\frac{p(A)p(D|A)}{p(D)}\\right)}{\\left(\\frac{p(B)p(D|B)}{p(D)}\\right)} \\\\\n",
    "&= \\frac{p(A)p(D|A)}{p(A)p(D|A)}\n",
    "\\end{align}\n",
    "$$\n",
    "\n",
    "Note that the normalizing constant for the probability of the data $p(D)$ cancels out.\n",
    "\n",
    "If $A$ and $B$ are mutually exclusive and collectively exhaustive, then\n",
    "\n",
    "$$\n",
    "p(B) = 1 - p(A)\n",
    "$$\n",
    "\n",
    "therefore,\n",
    "\n",
    "$$\n",
    "\\frac{p(A)}{p(B)} = \\frac{p(A)}{1- p(A)} = o(A)\n",
    "$$\n",
    "\n",
    "where $o(H)$ are the odds of the hypothesis $H$. Finally, the **odds form of Bayes' theorem** is\n",
    "\n",
    "$$\n",
    "o(A|D) = o(A) \\frac{p(D|A)}{p(D|B)}\n",
    "$$\n",
    "\n",
    "which is just the prior odds multiplied against the liklihood ratio.\n",
    "\n",
    "## Oliver's blood\n",
    "\n",
    "> Two people have left traces of their own blood at the scene of a crime. A suspect, Oliver, is tested and found to have type ‘O’ blood. The blood groups of the two traces are found to be of type ‘O’ (a common type in the local population, having frequency 60%) and of type ‘AB’ (a rare type, with frequency 1%). Do these data \\[the traces found at the scene\\] give evidence in favor of the proposition that Oliver was one of the people \\[who left blood at the scene\\]?\n",
    "\n",
    "Downey proposes that for data to give evidence in \"favor of\" a hypothesis, it could mean that the hypothesis is now more likely in light of the new data. Thinking in terms of the odds form of Bayes' theorem, dividing by $o(A)$\n",
    "\n",
    "$$\n",
    "\\begin{align}\n",
    "o(A|D) &= o(A) \\frac{p(D|A)}{p(D|B)} \\\\\n",
    "\\frac{o(A|D)}{o(A)} &= \\frac{p(D|A)}{p(D|B)}\n",
    "\\end{align}\n",
    "$$\n",
    "\n",
    "$\\frac{o(A|D)}{o(A)}$: the ratio of posterior and prior odds  \n",
    "$\\frac{p(D|A)}{p(D|B)}$: the liklihood ratio, called the **Bayes factor**\n",
    "\n",
    "If the Bayes factor is *greater than* 1, then the data were more likely under $A$ than $B$.  \n",
    "If the Bayes factor is *less than* 1, then the data were more likely under $B$ than $A$.  \n",
    "If the Bayes factor is *equal to* 1, then the data are equally likely under either hypothesis, so the odds did not change.\n",
    "\n",
    "Returning to Olver's blood:\n",
    "\n",
    "* If Oliver is one of the people who left blood at the crime scene, then he accounts for the 'O' sample, so the probability of the data is just the probability that a random member of the population has type 'AB', or 1%.\n",
    "* If Oliver did not leave the blood at the scene, then we have two samples to account for. In other words, if we choose two random people from the population, what is the chance of finding one with type 'O' and one with type 'AB'? The two combinations could be a type 'O' and type 'AB' pair, or a type 'AB' and type 'O' person. Thus, the probability is $(0.6)(0.01) + (0.01)(0.6) = 1.2\\%$.\n",
    "\n",
    "The liklihood of the data is slightly higher if Oliver is *not* one of the people who left blood at the scene, thus the data is actually evidence *against* Oliver's guilt.\n",
    "\n",
    "An inference from this result is that the 'AB' blood type holds more weight than does the 'O' blood type because it is the rarer of the two in the population. The liklihood of any of the 'O' type people being the suspect is lower than for all of the 'AB' blood type people.\n",
    "\n",
    "## Addends\n",
    "\n",
    "We will now work through a *Dungeons and Dragons* example. We will introduce the use of additions and maximums in Bayesian statistics as we go.\n",
    "\n",
    "In *D&D*, the results of players' decisions are determined by rolling dice. Before the game, players generate the attributes of their characters by rolling three 6-sided dice and adding them up. Thus, we may want to find the disribution of this sum. There are two ways to compute it:\n",
    "\n",
    "* **Simulation**: draw random samples from a PMF of a single die, add them up, and accumulate the distribution of simulated sums\n",
    "* **Enumeration**: enumerate all possible pairs of the values from two PMFs and compute the distribution of the sums\n",
    "\n",
    "Here is an example of the **simulation** method. Class `Die` represents a single die as a PMF."
   ]
  },
  {
   "cell_type": "code",
   "execution_count": 2,
   "metadata": {},
   "outputs": [],
   "source": [
    "from my_suite import Pmf\n",
    "\n",
    "class Die(Pmf):\n",
    "    '''\n",
    "    A single die\n",
    "    '''\n",
    "    \n",
    "    def __init__(self, sides):\n",
    "        Pmf.__init__(self)\n",
    "        for x in range(1, sides+1):\n",
    "            self.Set(x, 1)\n",
    "        self.Normalize()"
   ]
  },
  {
   "cell_type": "markdown",
   "metadata": {},
   "source": [
    "Introduce a 6-sided die:"
   ]
  },
  {
   "cell_type": "code",
   "execution_count": 3,
   "metadata": {},
   "outputs": [],
   "source": [
    "d6 = Die(6)"
   ]
  },
  {
   "cell_type": "markdown",
   "metadata": {},
   "source": [
    "I now define the function `SampleSum()` to generate `n` number of rolls of the `Die`. **These are not done yet, I need to look in the accompanying code for the book for `MakePmfFromList()` to fully implement.**"
   ]
  },
  {
   "cell_type": "code",
   "execution_count": 4,
   "metadata": {},
   "outputs": [],
   "source": [
    "def SampleSum(dists, n):\n",
    "    pmf = MakePmfFromList(RandomSum(dists) for i in range(n))\n",
    "    return pmf\n",
    "\n",
    "def RandomSum(dists):\n",
    "    total = sum(dist.Random() for dist in dists)\n",
    "    return total"
   ]
  },
  {
   "cell_type": "code",
   "execution_count": null,
   "metadata": {},
   "outputs": [],
   "source": []
  }
 ],
 "metadata": {
  "kernelspec": {
   "display_name": "Python 3",
   "language": "python",
   "name": "python3"
  },
  "language_info": {
   "codemirror_mode": {
    "name": "ipython",
    "version": 3
   },
   "file_extension": ".py",
   "mimetype": "text/x-python",
   "name": "python",
   "nbconvert_exporter": "python",
   "pygments_lexer": "ipython3",
   "version": "3.6.8"
  }
 },
 "nbformat": 4,
 "nbformat_minor": 2
}
