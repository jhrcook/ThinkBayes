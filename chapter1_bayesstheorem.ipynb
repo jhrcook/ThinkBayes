{
 "cells": [
  {
   "cell_type": "markdown",
   "metadata": {},
   "source": [
    "# Chapter 1. Bayes's Theorem"
   ]
  },
  {
   "cell_type": "markdown",
   "metadata": {},
   "source": [
    "May 2, 2019"
   ]
  },
  {
   "cell_type": "markdown",
   "metadata": {},
   "source": [
    "## The M&M Problem\n",
    "\n",
    "In 1995, blue was introduced, changing the distributions of the colors of the candy:\n",
    "\n",
    "- before 1995: 30% brown, 20% yellow, 20% red, 10% green, 10%orange, and 10% tan\n",
    "- after 1995: 24% blue, 20% green, 16% orange, 14% yellow, 13% red, and 13% brown\n",
    "\n",
    "A friend has two bags, one from 1994 and one from 1996. He gives me a M&M from each bag: one is yellow and the other is green.\n",
    "\n",
    "**Question:** What is the probability that the yellow on came from the 1994 bag?\n",
    "\n",
    "We will use the *table method* to solve this problem.\n",
    "\n",
    "1. enumerate the hypotheses:\n",
    "\n",
    "A: Bag 1 is from 1994, and Bag 2 is from 1996  \n",
    "B: Bag 1 is from 1996, and Bag2 is from 1994\n",
    "\n",
    "2. construct a table with a row for each hypothesis, and a column for each term in Baye's theorem:\n",
    "\n",
    "| $H$ | Prior $p(H)$ | Liklihood $p(D|H)$ | Numerator $p(H) \\times p(D|H)$ | Posterior $p(H|D)$ |\n",
    "|-----|--------------|--------------------|--------------------------------|--------------------|\n",
    "| A   | 1/2          | (20)(20)           | 200                            | 20/27              |\n",
    "| B   | 1/2          | (14)(10)           | 70                             | 7/27\n",
    "\n",
    "(The posterior is just the \"normalized\" probability by dividing by the total of the numerators (270).)\n"
   ]
  }
 ],
 "metadata": {
  "kernelspec": {
   "display_name": "Python 3",
   "language": "python",
   "name": "python3"
  },
  "language_info": {
   "codemirror_mode": {
    "name": "ipython",
    "version": 3
   },
   "file_extension": ".py",
   "mimetype": "text/x-python",
   "name": "python",
   "nbconvert_exporter": "python",
   "pygments_lexer": "ipython3",
   "version": "3.6.8"
  }
 },
 "nbformat": 4,
 "nbformat_minor": 2
}
