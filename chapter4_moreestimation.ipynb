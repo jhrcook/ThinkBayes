{
 "cells": [
  {
   "cell_type": "markdown",
   "metadata": {},
   "source": [
    "# Chapter 4. More Estimation"
   ]
  },
  {
   "cell_type": "code",
   "execution_count": 57,
   "metadata": {},
   "outputs": [],
   "source": [
    "from my_suite import Pmf, Suite\n",
    "import matplotlib.pyplot as plt\n",
    "from statistics import median\n",
    "from numpy import quantile"
   ]
  },
  {
   "cell_type": "markdown",
   "metadata": {},
   "source": [
    "## The Euro problem\n",
    "\n",
    "> When spun on edge 250 times, a Belgian one-euro coin came up heads 140 times and tails 110. ‘It looks very suspicious to me,’ said Barry Blight, a statistics lecturer at the London School of Economics. ‘If the coin were unbiased, the chance of getting a result as extreme as that would be less than 7%.'\n",
    "\n",
    "We wanted to determine if the coin was biased rather than fair. To answer this, we proceeded in two steps:\n",
    "\n",
    "1. Estimate the probability that the coin lands face up.\n",
    "2. Evaluate whether the data supposrt the hypothesis that the coin is biased.\n",
    "\n",
    "A coin has some probability $x$ of landing heads up when spun on edge dependent upon the physical properties of the coin, such as the distribution of mass. A balanced coin should have a probability of $x = 0.50$.\n",
    "\n",
    "To use BT to estimate $x$, we defined 101 hypotheses such that x ranged from 0% to 100% with equal probability. This was our first prior. We then created a class `Euro` for this prior."
   ]
  },
  {
   "cell_type": "code",
   "execution_count": 58,
   "metadata": {},
   "outputs": [],
   "source": [
    "class Euro(Suite):\n",
    "    '''\n",
    "    A Suite for the Euro problem\n",
    "    '''\n",
    "    \n",
    "    def Liklihood(self, data, hypo):\n",
    "        x = hypo\n",
    "        if data == 'H':\n",
    "            return hypo/100.0\n",
    "        else:\n",
    "            return 1 - hypo/100.0"
   ]
  },
  {
   "cell_type": "markdown",
   "metadata": {},
   "source": [
    "Then, we created the suite with the prior hypotheses with uniform liklihood."
   ]
  },
  {
   "cell_type": "code",
   "execution_count": 59,
   "metadata": {},
   "outputs": [],
   "source": [
    "suite = Euro(range(0, 101))\n",
    "dataset = 'H' * 140 + 'T' * 110\n",
    "for data in dataset:\n",
    "    suite.Update(data)"
   ]
  },
  {
   "cell_type": "markdown",
   "metadata": {},
   "source": [
    "Plotting the data showed that there was a curve focused just above 50%, as expected by the actual data."
   ]
  },
  {
   "cell_type": "code",
   "execution_count": 60,
   "metadata": {},
   "outputs": [
    {
     "data": {
      "image/png": "[encoded data removed]",
      "text/plain": [
       "<Figure size 432x288 with 1 Axes>"
      ]
     },
     "metadata": {
      "needs_background": "light"
     },
     "output_type": "display_data"
    }
   ],
   "source": [
    "plt.plot(suite.hypotheses.values(), color = \"dodgerblue\", label = \"uniform\")\n",
    "plt.ylabel(\"probability\")\n",
    "plt.xlabel(\"x\")\n",
    "plt.title('Liklihood of getting a Heads')\n",
    "plt.legend()\n",
    "plt.show()"
   ]
  },
  {
   "cell_type": "markdown",
   "metadata": {},
   "source": [
    "## Summarizing the Posterior\n",
    "\n",
    "One option is to calculate the maximum liklihood, the value with the highest posterior probability."
   ]
  },
  {
   "cell_type": "code",
   "execution_count": 61,
   "metadata": {},
   "outputs": [],
   "source": [
    "def MaximumLiklihood(pmf):\n",
    "    '''\n",
    "    Calculates the maximum liklihood of the posterior prob of a Suite object\n",
    "    '''\n",
    "    prob, val = max((prob, val) for val, prob in pmf.hypotheses.items())\n",
    "    return val"
   ]
  },
  {
   "cell_type": "code",
   "execution_count": 62,
   "metadata": {},
   "outputs": [
    {
     "data": {
      "text/plain": [
       "56"
      ]
     },
     "execution_count": 62,
     "metadata": {},
     "output_type": "execute_result"
    }
   ],
   "source": [
    "MaximumLiklihood(suite)"
   ]
  },
  {
   "cell_type": "markdown",
   "metadata": {},
   "source": [
    "It is no coincidence that this value is the same as the frequency of heads found in the data $140/200 = 56\\%$. Thus, the observed percentage is the maximum liklihood.\n",
    "\n",
    "Another option is to summarise the posterior by computing the mean and median."
   ]
  },
  {
   "cell_type": "code",
   "execution_count": 63,
   "metadata": {},
   "outputs": [],
   "source": [
    "def Mean(pmf):\n",
    "    '''\n",
    "    Calculates the mean of the posterior prob of a Suite object\n",
    "    '''\n",
    "    avg = sum(prob * val for val, prob in pmf.hypotheses.items())\n",
    "    return avg\n",
    "\n",
    "\n",
    "def Percentile(pmf, percentage):\n",
    "    p = percentage / 100.0\n",
    "    total = 0\n",
    "    for val, prob in pmf.hypotheses.items():\n",
    "        total += prob\n",
    "        if total >= p:\n",
    "            return val"
   ]
  },
  {
   "cell_type": "code",
   "execution_count": 64,
   "metadata": {},
   "outputs": [
    {
     "name": "stdout",
     "output_type": "stream",
     "text": [
      "55.95238095238095\n",
      "56\n"
     ]
    }
   ],
   "source": [
    "print(Mean(suite))\n",
    "print(Percentile(suite, 50))"
   ]
  },
  {
   "cell_type": "markdown",
   "metadata": {},
   "source": [
    "Therefore, the credible interval can be calculates as a 90% interval from 5% to 95%."
   ]
  },
  {
   "cell_type": "code",
   "execution_count": 65,
   "metadata": {},
   "outputs": [
    {
     "name": "stdout",
     "output_type": "stream",
     "text": [
      "51\n",
      "61\n"
     ]
    }
   ],
   "source": [
    "# 5%\n",
    "print(Percentile(suite, 5))\n",
    "# 95%\n",
    "print(Percentile(suite, 95))"
   ]
  },
  {
   "cell_type": "markdown",
   "metadata": {},
   "source": [
    "Note that the credible interval does not include 50%, which suggests that the coin is not fair. However, the question requires a more precise answers as to what consitutes evidence for a hypotheses. This is discussed in the next chapter.\n",
    "\n",
    "Before continuing, it is important to note that the posterior probability at 50% is meaningless because it depends on how many slices we divide out prior probability into.\n",
    "\n",
    "## Swamping the priors\n",
    "\n",
    "Swamping the priors is when, with enough data, different priors converge to the same posterior. In the book, Downey demonstrates how starting with a \"triangular\" prior with the center at 50% still leads to pretty much the same predictions based on maximum liklihood, mean, and median.\n",
    "\n",
    "## Optimization\n",
    "\n",
    "The current `Update()` method for `Suite` loops through all the data passed to it, then calls `Normalize()`, which again loops through the data. The new method `UpdateSet()` is more efficient."
   ]
  },
  {
   "cell_type": "code",
   "execution_count": 66,
   "metadata": {},
   "outputs": [],
   "source": [
    "def UpdateSet(self, dataset):\n",
    "    for data in dataset:\n",
    "        for hypo in self.hypotheses.values():\n",
    "            like = self.Liklihood(data, hypo)\n",
    "            self.Mult(hypo, like)\n",
    "    return self.Normalize()"
   ]
  },
  {
   "cell_type": "code",
   "execution_count": 67,
   "metadata": {},
   "outputs": [],
   "source": [
    "suite.UpdateSet(dataset)"
   ]
  },
  {
   "cell_type": "markdown",
   "metadata": {},
   "source": [
    "`Liklihood` can also bee sped up to process the entire dataset rather than one new data point at a time."
   ]
  },
  {
   "cell_type": "code",
   "execution_count": 68,
   "metadata": {},
   "outputs": [],
   "source": [
    "class Euro(Suite):\n",
    "    '''\n",
    "    A Suite for the Euro problem\n",
    "    '''\n",
    "    \n",
    "    def Liklihood(self, data, hypo):\n",
    "        x = hypo / 100.0\n",
    "        heads, tails = data\n",
    "        like = x**heads * (1-x)**tails\n",
    "        return like"
   ]
  },
  {
   "cell_type": "code",
   "execution_count": 69,
   "metadata": {},
   "outputs": [],
   "source": [
    "heads, tails = 140, 110\n",
    "suite.Update((heads, tails))"
   ]
  },
  {
   "cell_type": "markdown",
   "metadata": {},
   "source": [
    "## The  beta distribution\n",
    "\n",
    "Thus far we have used a discerete distribution for the values of $x$. Replacing this with a continuous distribution would further increase the efficiency of the `Euro` class. Here, we used a **beta distribution**.\n",
    "\n",
    "The beta distribution is defined on the interval $[0,1]$. It also is a **conjugate prior**, that is, if the prior is a beta distribution, so will be the posterior. The shape of the beta distribution is defined by two paramters $\\alpha$ and $\\beta$. If the distribution has paramters $\\alpha$ and $\\beta$ and the data is $h$ heads and $t$ tails, then the parameters of the posterior  distribution will be $\\alpha + h$ and $\\beta + t$. Therefore, the update is completed via two additions.\n",
    "\n",
    "For the euro problem, we defined the new prior as a beta distribution with $\\alpha = 1$ and $\\beta = 1$ which is a uniform distribution from $[0,1]$."
   ]
  },
  {
   "cell_type": "code",
   "execution_count": 70,
   "metadata": {},
   "outputs": [],
   "source": [
    "class Beta(object):\n",
    "    '''\n",
    "    A beta distribution for Bayes Thrm calculations\n",
    "    '''\n",
    "    def __init__(self, alpha=1, beta=1):\n",
    "        self.alpha = alpha\n",
    "        self.beta = beta\n",
    "    \n",
    "    \n",
    "    # update the posterior distribution based on the number of \n",
    "    # Heads and Tails seen from the data\n",
    "    def Update(self, data):\n",
    "        heads, tails = data\n",
    "        self.alpha += heads\n",
    "        self.beta += tails\n",
    "    \n",
    "    \n",
    "    # calculate the mean of the distribution\n",
    "    def Mean(self):\n",
    "        return float(self.alpha) / (self.alpha + self.beta)\n",
    "    \n",
    "    \n",
    "    # evalute the PDF of the distribution\n",
    "    def EvalPdf(self, x):\n",
    "        return x**(self.alpha-1) * (1-x)**(self.beta-1)"
   ]
  },
  {
   "cell_type": "code",
   "execution_count": 71,
   "metadata": {},
   "outputs": [
    {
     "name": "stdout",
     "output_type": "stream",
     "text": [
      "0.5595238095238095\n"
     ]
    }
   ],
   "source": [
    "beta = Beta()  # defaults to a uniform distribution\n",
    "beta.Update((140, 110))  # update with data\n",
    "print(beta.Mean())  # print the mean of the posterior"
   ]
  },
  {
   "cell_type": "markdown",
   "metadata": {},
   "source": [
    "(The `Beta` class was added to \"my_beta.py\". The `Pmf` class was updated with the new functions defined above.) "
   ]
  }
 ],
 "metadata": {
  "kernelspec": {
   "display_name": "Python 3",
   "language": "python",
   "name": "python3"
  },
  "language_info": {
   "codemirror_mode": {
    "name": "ipython",
    "version": 3
   },
   "file_extension": ".py",
   "mimetype": "text/x-python",
   "name": "python",
   "nbconvert_exporter": "python",
   "pygments_lexer": "ipython3",
   "version": "3.6.8"
  }
 },
 "nbformat": 4,
 "nbformat_minor": 2
}
